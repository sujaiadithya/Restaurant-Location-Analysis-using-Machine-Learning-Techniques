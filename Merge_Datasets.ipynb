{
  "nbformat": 4,
  "nbformat_minor": 0,
  "metadata": {
    "colab": {
      "provenance": []
    },
    "kernelspec": {
      "name": "python3",
      "display_name": "Python 3"
    },
    "language_info": {
      "name": "python"
    }
  },
  "cells": [
    {
      "cell_type": "code",
      "execution_count": null,
      "metadata": {
        "id": "oPooaLxxKirH"
      },
      "outputs": [],
      "source": [
        "import pandas as pd\n",
        "import re\n",
        "\n",
        "# Load the datasets\n",
        "uber_eats_1 = pd.read_excel(\"/content/Uber Eats_1.xlsx\")\n",
        "uber_eats_2 = pd.read_excel(\"/content/Uber Eats_2.xlsx\")\n",
        "uber_eats_3 = pd.read_excel(\"/content/Uber Eats_3.xlsx\")\n",
        "uber_eats_4 = pd.read_excel(\"/content/Uber Eats_4.xlsx\")\n",
        "yelp_four_dollar = pd.read_csv(\"/content/yelp_four_dollar_20data.csv\")\n",
        "yelp_one_dollar = pd.read_csv(\"/content/yelp_one_dollar_20data.csv\")\n",
        "yelp_three_dollar = pd.read_csv(\"/content/yelp_three_dollar_20data.csv\")\n",
        "yelp_two_dollar = pd.read_csv(\"/content/yelp_two_dollar_20data.csv\")\n"
      ]
    },
    {
      "cell_type": "code",
      "source": [
        "# union all datasets\n",
        "combined_df = pd.concat([\n",
        "    uber_eats_1, uber_eats_2, uber_eats_3, uber_eats_4\n",
        "], ignore_index=True)\n",
        "\n",
        "# correct column names\n",
        "corrected_selected_columns = [\"id\", \"name\", \"address1\", \"address2\", \"city\", \"zip_code\", \"review_count\", \"categories\", \"rating\", \"price\"]\n",
        "\n",
        "# make sure it exist\n",
        "for col in corrected_selected_columns:\n",
        "    if col not in combined_df.columns:\n",
        "        combined_df[col] = None  # Add missing column as empty\n",
        "\n",
        "# get the requested columns\n",
        "ubereats_comma = combined_df[corrected_selected_columns]\n",
        "\n",
        "# Function to correct categories formatting - add commas in between\n",
        "def refine_categories(string):\n",
        "    if pd.isnull(string):\n",
        "        return string\n",
        "    # Insert commas before capital letters except the first character\n",
        "    return ', '.join(re.findall('[A-Z][^A-Z]*', string))\n",
        "\n",
        "# Apply the function to the 'categories' column\n",
        "ubereats_comma['categories'] = ubereats_comma['categories'].apply(refine_categories)\n",
        "\n",
        "# Display the first few rows of the combined and corrected dataframe\n",
        "print(ubereats_comma.head())\n"
      ],
      "metadata": {
        "colab": {
          "base_uri": "https://localhost:8080/"
        },
        "id": "ACnJ09gZKnIc",
        "outputId": "ad5ba247-acf6-4769-c682-ed131e36d60d"
      },
      "execution_count": null,
      "outputs": [
        {
          "output_type": "stream",
          "name": "stdout",
          "text": [
            "           id                             name           address1 address2  \\\n",
            "0  0002182390                      Saucy Asian    5614 Bay Street      210   \n",
            "1  0031423dca             Perilla - Irving St.  836 Irving Street            \n",
            "2  00da776500                    Begoni Bistro     615 Jackson St            \n",
            "3  00f369d788  Royal Kitchen Indian Restaurant       175 98th Ave            \n",
            "4  0161dacdc3                Ariel's Breakfast    2845 Mission St            \n",
            "\n",
            "             city  zip_code review_count                          categories  \\\n",
            "0   San Francisco     94608           22                      Asian, B, B, Q   \n",
            "1   San Francisco     94122         100+  Vietnamese, Noodles, Healthy, Fast   \n",
            "2   San Francisco     94133          new   Chinese, Asian, Noodles, Dumpling   \n",
            "3   San Francisco     94603           91                  Indian, Vegetarian   \n",
            "4   San Francisco     94110           51                      Mexican, Latin   \n",
            "\n",
            "   rating price  \n",
            "0       5     $  \n",
            "1       0     $  \n",
            "2       0     $  \n",
            "3       5     $  \n",
            "4       5     $  \n"
          ]
        }
      ]
    },
    {
      "cell_type": "code",
      "source": [
        "# union all datasets\n",
        "combined_df = pd.concat([\n",
        "    ubereats_comma,\n",
        "    yelp_four_dollar, yelp_one_dollar, yelp_three_dollar, yelp_two_dollar\n",
        "], ignore_index=True)\n",
        "\n",
        "# correct column names\n",
        "corrected_selected_columns = [\"id\", \"name\", \"address1\", \"address2\", \"city\", \"zip_code\", \"review_count\", \"categories\", \"rating\", \"price\"]\n",
        "\n",
        "# make sure it exist\n",
        "for col in corrected_selected_columns:\n",
        "    if col not in combined_df.columns:\n",
        "        combined_df[col] = None  # Add missing column as empty\n",
        "\n",
        "# get the requested columns\n",
        "combined_selected_df = combined_df[corrected_selected_columns]\n",
        "\n"
      ],
      "metadata": {
        "id": "sVkg6Af8Mkh4"
      },
      "execution_count": null,
      "outputs": []
    },
    {
      "cell_type": "code",
      "source": [
        "# Assuming 'df' is your DataFrame variable\n",
        "combined_selected_df.to_csv('uberEats_Yelp_Restaurants.csv', index=False)\n"
      ],
      "metadata": {
        "id": "HuYvb1KbLbii"
      },
      "execution_count": null,
      "outputs": []
    }
  ]
}